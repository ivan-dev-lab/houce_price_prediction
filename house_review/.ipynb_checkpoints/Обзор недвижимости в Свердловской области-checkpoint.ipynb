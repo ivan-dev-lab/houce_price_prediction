{
 "cells": [
  {
   "cell_type": "code",
   "execution_count": 34,
   "id": "d4da37ec",
   "metadata": {},
   "outputs": [],
   "source": [
    "%matplotlib inline "
   ]
  },
  {
   "cell_type": "markdown",
   "id": "2e39a91b",
   "metadata": {},
   "source": [
    "# Обзор данных по недвижимости\n",
    "\n",
    "Примечание: весь анализ проведен 27.07.2023. В случае изменения данных неоходимо будет анализировать результаты <b>заново</b>"
   ]
  },
  {
   "cell_type": "code",
   "execution_count": 2,
   "id": "dbd967dc",
   "metadata": {
    "scrolled": true
   },
   "outputs": [
    {
     "name": "stdout",
     "output_type": "stream",
     "text": [
      "         price  area_house  area_land                                   type  \\\n",
      "0     20000000       190.0        5.0  индивидуальное жилищное строительство   \n",
      "1      5550000       160.0        6.0  индивидуальное жилищное строительство   \n",
      "2      4450000        57.0       11.0                            садоводство   \n",
      "3      6490000       110.0        6.0                            садоводство   \n",
      "4     28900000       279.0        3.0  индивидуальное жилищное строительство   \n",
      "...        ...         ...        ...                                    ...   \n",
      "6191   2600000        40.0        6.0  индивидуальное жилищное строительство   \n",
      "6192   6900000        60.0        9.0  индивидуальное жилищное строительство   \n",
      "6193   2600000        40.0        6.0  индивидуальное жилищное строительство   \n",
      "6194   6900000        60.0        9.0  индивидуальное жилищное строительство   \n",
      "6195    560000        34.0       14.0  индивидуальное жилищное строительство   \n",
      "\n",
      "     house_material  num_of_floors  \n",
      "0            кирпич              2  \n",
      "1            кирпич              2  \n",
      "2            дерево              2  \n",
      "3              блок              2  \n",
      "4              блок              3  \n",
      "...             ...            ...  \n",
      "6191         дерево              1  \n",
      "6192           блок              1  \n",
      "6193         дерево              1  \n",
      "6194           блок              1  \n",
      "6195         дерево              1  \n",
      "\n",
      "[6196 rows x 6 columns]\n"
     ]
    }
   ],
   "source": [
    "import pandas as pd\n",
    "\n",
    "houses_data_RAW = pd.read_csv(\"houses-data.csv\", index_col=[0])\n",
    "print(houses_data_RAW)"
   ]
  },
  {
   "cell_type": "markdown",
   "id": "98fe9c69",
   "metadata": {},
   "source": [
    "## Обзор цен "
   ]
  },
  {
   "cell_type": "code",
   "execution_count": 3,
   "id": "a29c0127",
   "metadata": {},
   "outputs": [
    {
     "name": "stdout",
     "output_type": "stream",
     "text": [
      "count        6196\n",
      "mean      5896737\n",
      "std       8188772\n",
      "min        100000\n",
      "25%       1450000\n",
      "50%       3950000\n",
      "75%       7257500\n",
      "max     188000000\n",
      "Name: price, dtype: float64\n"
     ]
    }
   ],
   "source": [
    "pd.options.display.float_format = '{:.0f}'.format\n",
    "print(houses_data_RAW[\"price\"].describe())"
   ]
  },
  {
   "cell_type": "markdown",
   "id": "c65811ac",
   "metadata": {},
   "source": [
    "### Вывод к обзору цен: \n",
    "<ol>\n",
    "    <li>Максимальная цена за недвижимость достигает <b>188.000.000 рублей</b>;</li>\n",
    "    <li>Средняя цена за недвижимость достигает <b>5.896.737 рублей</b>;</li>\n",
    "    <li>Минимальная цена за недвижимость достигает <b>100.000 рублей</b>;</li>\n",
    "</ol>"
   ]
  },
  {
   "cell_type": "markdown",
   "id": "f07de37d",
   "metadata": {},
   "source": [
    "## Обзор площадей домов"
   ]
  },
  {
   "cell_type": "code",
   "execution_count": 4,
   "id": "0410fb33",
   "metadata": {},
   "outputs": [
    {
     "name": "stdout",
     "output_type": "stream",
     "text": [
      "count   6196.00\n",
      "mean     113.58\n",
      "std      104.09\n",
      "min       10.00\n",
      "25%       45.00\n",
      "50%       84.00\n",
      "75%      140.00\n",
      "max      966.00\n",
      "Name: area_house, dtype: float64\n"
     ]
    }
   ],
   "source": [
    "pd.options.display.float_format = '{:.2f}'.format\n",
    "print(houses_data_RAW[\"area_house\"].describe())"
   ]
  },
  {
   "cell_type": "markdown",
   "id": "60946cf7",
   "metadata": {},
   "source": [
    "### Итоги обзора площадей домов: \n",
    "<ol>\n",
    "    <li>Максимальная площадь дома составляет <b>966.00 м2</b>;</li>\n",
    "    <li>Средняя площадь дома составляет <b>113.58 м2</b>;</li>\n",
    "    <li>Минимальная площадь дома составляет <b>10.00 м2</b>;</li>\n",
    "</ol>"
   ]
  },
  {
   "cell_type": "markdown",
   "id": "53e341e0",
   "metadata": {},
   "source": [
    "## Обзор площадей участков"
   ]
  },
  {
   "cell_type": "code",
   "execution_count": 5,
   "id": "7eb21f03",
   "metadata": {},
   "outputs": [
    {
     "name": "stdout",
     "output_type": "stream",
     "text": [
      "count    6196.00\n",
      "mean       34.81\n",
      "std       365.33\n",
      "min         1.00\n",
      "25%         7.00\n",
      "50%        10.00\n",
      "75%        15.00\n",
      "max     25000.00\n",
      "Name: area_land, dtype: float64\n"
     ]
    }
   ],
   "source": [
    "pd.options.display.float_format = '{:.2f}'.format\n",
    "print(houses_data_RAW[\"area_land\"].describe())"
   ]
  },
  {
   "cell_type": "markdown",
   "id": "70c7ade1",
   "metadata": {},
   "source": [
    "### Вывод к обзору площадей участков: \n",
    "<ol>\n",
    "    <li>Максимальная площадь участка составляет <b>25.000 сот.</b>;</li>\n",
    "    <li>Средняя площадь участка составляет <b>34.81 сот.</b>;</li>\n",
    "    <li>Минимальная площадь участка составляет <b>1.00 сот.</b>;</li>\n",
    "</ol>"
   ]
  },
  {
   "cell_type": "markdown",
   "id": "5b2aef36",
   "metadata": {},
   "source": [
    "## Обзор типов домов"
   ]
  },
  {
   "cell_type": "code",
   "execution_count": 47,
   "id": "ffdb3b13",
   "metadata": {
    "scrolled": true
   },
   "outputs": [
    {
     "data": {
      "image/png": "[encoded data removed]",
      "text/plain": [
       "<Figure size 792x360 with 1 Axes>"
      ]
     },
     "metadata": {},
     "output_type": "display_data"
    }
   ],
   "source": [
    "import matplotlib.pyplot as plt\n",
    "import seaborn as sns\n",
    "\n",
    "houses_type_df = houses_data_RAW[\"type\"]\n",
    "type_counts = houses_type_df.value_counts()\n",
    "\n",
    "sns.set_style(\"darkgrid\")\n",
    "\n",
    "plt.figure(figsize=(11,5))\n",
    "sns.barplot(x=type_counts.index, y=type_counts.values)\n",
    "plt.xlabel(\"Тип участка\")\n",
    "plt.ylabel(\"Соотношение\")\n",
    "plt.savefig(\"графики/типы-участков\")"
   ]
  },
  {
   "cell_type": "markdown",
   "id": "f80d1541",
   "metadata": {},
   "source": [
    "### Вывод к обзору типов участков: \n",
    "<ol>\n",
    "    <li>Самый распространенный тип участка - <b>Индивидуальное жилищное строительство</b> - свыше 5000 построек;</li>\n",
    "    <li>Самый непопулярный тип участка - оформленный как <b>садоводство</b> - менее 1000 построек;</li>\n",
    "</ol>"
   ]
  },
  {
   "cell_type": "markdown",
   "id": "85838413",
   "metadata": {},
   "source": [
    "## Обзор материалов домов"
   ]
  },
  {
   "cell_type": "code",
   "execution_count": 46,
   "id": "0d4d9bc7",
   "metadata": {
    "scrolled": true
   },
   "outputs": [
    {
     "data": {
      "image/png": "[encoded data removed]",
      "text/plain": [
       "<Figure size 792x360 with 1 Axes>"
      ]
     },
     "metadata": {},
     "output_type": "display_data"
    }
   ],
   "source": [
    "houses_type_df = houses_data_RAW[\"house_material\"]\n",
    "type_counts = houses_type_df.value_counts()\n",
    "\n",
    "plt.figure(figsize=(11,5))\n",
    "sns.barplot(x=type_counts.index, y=type_counts.values)\n",
    "plt.xlabel(\"Материал дома\")\n",
    "plt.ylabel(\"Соотношение\")\n",
    "plt.savefig(\"графики/материалы-домов\")"
   ]
  },
  {
   "cell_type": "markdown",
   "id": "b588f1a0",
   "metadata": {},
   "source": [
    "### Вывод к обзору материалов домов: \n",
    "<ol>\n",
    "    <li>Самый распространенный материал при строительстве - <b>Дерево</b> - 3000 построек;</li>\n",
    "    <li>Второй по распостраненности материал при строительстве - <b>блок</b> - более 2000 построек;</li>\n",
    "    <li>Третий по распостраненности материал при строительстве - <b>кирпич</b> - более 900 построек;</li>\n",
    "    <li>Самые непопулярные материалы при строительстве - <b>монолит</b> и <b>монолит-кирпич</b> - менее 50 построек;</li>\n",
    "</ol>"
   ]
  },
  {
   "cell_type": "markdown",
   "id": "aa3dc3db",
   "metadata": {},
   "source": [
    "## Анализ зависимостей\n",
    "\n",
    "### Построены такие графики:\n",
    "<ol>\n",
    "    <li>Частота площадей домов;</li>\n",
    "    <li>Частота площадей участков;</li>\n",
    "</ol>"
   ]
  },
  {
   "cell_type": "markdown",
   "id": "ccb8bf5c",
   "metadata": {},
   "source": [
    "#### № 1: Частота площадей домов"
   ]
  },
  {
   "cell_type": "code",
   "execution_count": 43,
   "id": "48944e22",
   "metadata": {
    "scrolled": true
   },
   "outputs": [
    {
     "data": {
      "image/png": "[encoded data removed]",
      "text/plain": [
       "<Figure size 792x360 with 1 Axes>"
      ]
     },
     "metadata": {
      "needs_background": "light"
     },
     "output_type": "display_data"
    }
   ],
   "source": [
    "plt.figure(figsize=(11,5))\n",
    "sns.histplot(houses_data_RAW[\"area_house\"], kde=True)\n",
    "plt.xlabel(\"Площадь дома\")\n",
    "plt.ylabel(\"Частота\")\n",
    "plt.savefig(\"графики/частота-площадей-домов\")"
   ]
  },
  {
   "cell_type": "markdown",
   "id": "1c5ad4ca",
   "metadata": {},
   "source": [
    "##### Вывод к №1\n",
    "Как видно из графика - наиболее часто встречаются дома с площадью менее 200 м2"
   ]
  },
  {
   "cell_type": "markdown",
   "id": "a4f1a519",
   "metadata": {},
   "source": [
    "#### № 1: Частота площадей участков"
   ]
  },
  {
   "cell_type": "code",
   "execution_count": 48,
   "id": "d170e76a",
   "metadata": {
    "scrolled": false
   },
   "outputs": [
    {
     "data": {
      "image/png": "[encoded data removed]",
      "text/plain": [
       "<Figure size 792x360 with 1 Axes>"
      ]
     },
     "metadata": {},
     "output_type": "display_data"
    }
   ],
   "source": [
    "plt.figure(figsize=(11,5))\n",
    "sns.scatterplot(houses_data_RAW[\"area_land\"])\n",
    "plt.xlabel(\"Частота\")\n",
    "plt.ylabel(\"Площадь участка\")\n",
    "plt.savefig(\"графики/частота-площадей-участков\")"
   ]
  },
  {
   "cell_type": "markdown",
   "id": "c27f4e57",
   "metadata": {},
   "source": [
    "##### Вывод к №2\n",
    "Как видно из графика - наиболее часто встречаются участки с площадью менее 200 м2"
   ]
  }
 ],
 "metadata": {
  "kernelspec": {
   "display_name": "Python 3 (ipykernel)",
   "language": "python",
   "name": "python3"
  },
  "language_info": {
   "codemirror_mode": {
    "name": "ipython",
    "version": 3
   },
   "file_extension": ".py",
   "mimetype": "text/x-python",
   "name": "python",
   "nbconvert_exporter": "python",
   "pygments_lexer": "ipython3",
   "version": "3.9.6"
  }
 },
 "nbformat": 4,
 "nbformat_minor": 5
}
